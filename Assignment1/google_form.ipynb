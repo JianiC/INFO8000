{
 "cells": [
  {
   "cell_type": "code",
   "execution_count": 2,
   "metadata": {},
   "outputs": [
    {
     "data": {
      "text/html": [
       "<div>\n",
       "<style scoped>\n",
       "    .dataframe tbody tr th:only-of-type {\n",
       "        vertical-align: middle;\n",
       "    }\n",
       "\n",
       "    .dataframe tbody tr th {\n",
       "        vertical-align: top;\n",
       "    }\n",
       "\n",
       "    .dataframe thead th {\n",
       "        text-align: right;\n",
       "    }\n",
       "</style>\n",
       "<table border=\"1\" class=\"dataframe\">\n",
       "  <thead>\n",
       "    <tr style=\"text-align: right;\">\n",
       "      <th></th>\n",
       "      <th>Timestamp</th>\n",
       "      <th>First name</th>\n",
       "      <th>Last name</th>\n",
       "      <th>Education level</th>\n",
       "      <th>2+5*3-6*2=?</th>\n",
       "    </tr>\n",
       "  </thead>\n",
       "  <tbody>\n",
       "    <tr>\n",
       "      <td>0</td>\n",
       "      <td>1/7/2020 22:14:46</td>\n",
       "      <td>Jiani</td>\n",
       "      <td>Chen</td>\n",
       "      <td>Phd</td>\n",
       "      <td>6</td>\n",
       "    </tr>\n",
       "  </tbody>\n",
       "</table>\n",
       "</div>"
      ],
      "text/plain": [
       "           Timestamp First name Last name Education level  2+5*3-6*2=?\n",
       "0  1/7/2020 22:14:46      Jiani      Chen             Phd            6"
      ]
     },
     "execution_count": 2,
     "metadata": {},
     "output_type": "execute_result"
    }
   ],
   "source": [
    "import requests #great web library\n",
    "import pandas as pd #great table/dataframe library\n",
    "doc_id = \"1TFUGB7crqHNwwD5QUx9tt139MQMON4KATahVWVeFdSY\" #from your shared link\n",
    "url = f\"https://docs.google.com/spreadsheets/d/{doc_id}/gviz/tq?tqx=out:csv\" #beautiful python syntactic sugar\n",
    "res = requests.get(url,allow_redirects=True) #Does the download\n",
    "open('./temp.csv', 'wb').write(res.content) #temporarily write to a file\n",
    "df = pd.read_csv('./temp.csv') #so that we can read it. \n",
    "df.head() #so we can see that it worked\n"
   ]
  },
  {
   "cell_type": "code",
   "execution_count": null,
   "metadata": {},
   "outputs": [],
   "source": []
  }
 ],
 "metadata": {
  "kernelspec": {
   "display_name": "Python 3",
   "language": "python",
   "name": "python3"
  },
  "language_info": {
   "codemirror_mode": {
    "name": "ipython",
    "version": 3
   },
   "file_extension": ".py",
   "mimetype": "text/x-python",
   "name": "python",
   "nbconvert_exporter": "python",
   "pygments_lexer": "ipython3",
   "version": "3.7.4"
  }
 },
 "nbformat": 4,
 "nbformat_minor": 4
}
