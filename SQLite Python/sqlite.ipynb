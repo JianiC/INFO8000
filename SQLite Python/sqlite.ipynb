{
 "cells": [
  {
   "cell_type": "code",
   "execution_count": 13,
   "metadata": {},
   "outputs": [],
   "source": [
    "import sqlite3 as sq1\n",
    "import pandas as pd"
   ]
  },
  {
   "cell_type": "code",
   "execution_count": 14,
   "metadata": {},
   "outputs": [
    {
     "name": "stdout",
     "output_type": "stream",
     "text": [
      "   ID  Name\n",
      "0   1  Kyle\n",
      "1   2  John\n",
      "this excuted\n"
     ]
    }
   ],
   "source": [
    "conn =sq1.connect(\"tempdb.db\")\n",
    "\n",
    "try:\n",
    "    conn.execute(\"\"\"\n",
    "    DROP TABLE IF EXISTS person\n",
    "    \"\"\")\n",
    "    \n",
    "    conn.execute(\"\"\"\n",
    "    DROP TABLE IF EXISTS phone\n",
    "    \"\"\")\n",
    "    \n",
    "    conn.execute(\"\"\"\n",
    "    CREATE TABLE IF NOT EXISTS person (id INT, name TEXT, PRIMARY KEY ('id'));\n",
    "    \"\"\")\n",
    "    conn.execute(\"\"\"\n",
    "     CREATE TABLE IF NOT EXISTS phone (number TEXT, owner INT, \n",
    "                    FOREIGN KEY('owner') \n",
    "                    REFERENCES person ('id')\n",
    "                    ON DELETE CASCADE\n",
    "                    ON UPDATE CASCADE);\n",
    "    \"\"\")\n",
    "    \n",
    "    conn.executemany(\"\"\"\n",
    "    INSERT INTO person VALUES (?, ?)\"\"\",[(1,'Kyle'),(2,'John')])\n",
    "    \n",
    "    cursor = conn.execute(\"select * from person\")\n",
    "    \n",
    "    df = pd.DataFrame(cursor.fetchall(),columns = [ 'ID','Name'] )\n",
    "    print(df)\n",
    "    #print(cursor.fetchall())\n",
    "    conn.commit();\n",
    "except sqlite3.Error as e:\n",
    "    print(\"There was error:\"+str(e))\n",
    "\n",
    "finally: \n",
    "    print(\"this excuted\")\n",
    "    conn.close()"
   ]
  },
  {
   "cell_type": "code",
   "execution_count": null,
   "metadata": {},
   "outputs": [],
   "source": []
  }
 ],
 "metadata": {
  "kernelspec": {
   "display_name": "Python 3",
   "language": "python",
   "name": "python3"
  },
  "language_info": {
   "codemirror_mode": {
    "name": "ipython",
    "version": 3
   },
   "file_extension": ".py",
   "mimetype": "text/x-python",
   "name": "python",
   "nbconvert_exporter": "python",
   "pygments_lexer": "ipython3",
   "version": "3.7.4"
  }
 },
 "nbformat": 4,
 "nbformat_minor": 4
}
