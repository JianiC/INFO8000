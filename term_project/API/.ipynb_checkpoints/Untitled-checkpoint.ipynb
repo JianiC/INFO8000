{
 "cells": [
  {
   "cell_type": "code",
   "execution_count": 1,
   "metadata": {},
   "outputs": [],
   "source": [
    "from flask import Flask, request, render_template\n",
    "import pandas as pd\n",
    "import numpy as np\n",
    "import pickle\n",
    "import matplotlib.pyplot as plt\n",
    "import seaborn as sns\n",
    "\n",
    "from sklearn.feature_extraction.text import CountVectorizer\n",
    "from sklearn.model_selection import train_test_split\n",
    "from sklearn.naive_bayes import MultinomialNB\n",
    "from sklearn.metrics import accuracy_score\n",
    "\n",
    "from io import BytesIO\n",
    "import base64\n",
    "sns.set()\n"
   ]
  },
  {
   "cell_type": "code",
   "execution_count": 2,
   "metadata": {},
   "outputs": [],
   "source": [
    "\n",
    "app = Flask(\"iris_online_example\",template_folder='templates')\n",
    "classifier = None\n",
    "cov19_dna = None\n",
    "df=None"
   ]
  },
  {
   "cell_type": "code",
   "execution_count": 3,
   "metadata": {},
   "outputs": [],
   "source": [
    "#userful function that gets the current figure as a base 64 image for embedding into websites\n",
    "def getCurrFigAsBase64HTML():\n",
    "    im_buf_arr = BytesIO()\n",
    "    plt.gcf().savefig(im_buf_arr,format='png')\n",
    "    im_buf_arr.seek(0)\n",
    "    b64data = base64.b64encode(im_buf_arr.read()).decode('utf8');\n",
    "    return render_template('img.html',img_data=b64data) \n"
   ]
  },
  {
   "cell_type": "code",
   "execution_count": 4,
   "metadata": {},
   "outputs": [],
   "source": [
    "#convert a sequence of characters into k-mer words, default size = 6 (hexamers)\n",
    "def Kmers_funct(seq, size=6):\n",
    "    return [seq[x:x+size].lower() for x in range(len(seq) - size + 1)]\n"
   ]
  },
  {
   "cell_type": "code",
   "execution_count": 5,
   "metadata": {},
   "outputs": [],
   "source": [
    "def train():\n",
    "    global df,cov19_dna,cov19_texts,cv,classifier\n",
    "    df = pd.read_csv('CoV19seq_country.csv')\n",
    "    cov19_dna=df\n",
    "    #convert our training data sequences into short overlapping k-mers of length 6. \n",
    "    cov19_dna['words'] = cov19_dna.apply(lambda x: Kmers_funct(x['seq']), axis=1)\n",
    "    cov19_dna=df.drop(\"seq\",axis=1)\n",
    "    cov19_texts = list(cov19_dna['words'])\n",
    "    \n",
    "    y = cov19_dna.iloc[:, 0].values\n",
    "\n",
    "\n",
    "    for item in range(len(cov19_texts)):\n",
    "        cov19_texts[item] = ' '.join(cov19_texts[item])\n",
    "\n",
    "    \n",
    "    # convert k-mer words into numerical vectors that represent counts for every k-mer in the vocabulary\n",
    "    cv = CountVectorizer(ngram_range=(4,4)) #The n-gram size of 4 is previously determined by testing\n",
    "    X = cv.fit_transform(cov19_texts)\n",
    "    \n",
    "    \n",
    "    X_train, X_test, y_train, y_test = train_test_split(X, y, random_state=3) \n",
    "    classifier = MultinomialNB(alpha=0.1)\n",
    "    classifier.fit(X_train, y_train)\n",
    "    y_pred = classifier.predict(X_test)\n",
    "    \n",
    "\n",
    "    pickle.dump(classifier,open(\"model\",\"wb\"))\n",
    "    pickle.dump(cov19_dna,open(\"data\",\"wb\"))\n",
    "    return accuracy_score(y_test, y_pred)"
   ]
  },
  {
   "cell_type": "code",
   "execution_count": 6,
   "metadata": {},
   "outputs": [],
   "source": [
    "def init():\n",
    "    global df\n",
    "    global cov19_dna\n",
    "    \n",
    "    df = pd.read_csv('CoV19seq_country.csv')\n",
    "    cov19_dna=df\n",
    "   \n",
    "\n",
    "    \n",
    "    train()\n",
    "    "
   ]
  },
  {
   "cell_type": "code",
   "execution_count": 7,
   "metadata": {},
   "outputs": [],
   "source": [
    "try:\n",
    "    classifier = pickle.load(open(\"model\",\"rb\"))\n",
    "    cov19_dna = pickle.load(open(\"data\",\"rb\"))\n",
    "except:\n",
    "    init()"
   ]
  },
  {
   "cell_type": "code",
   "execution_count": 8,
   "metadata": {},
   "outputs": [],
   "source": [
    "#this method resets/initializes everything (database, model) (should probably password protect this)\n",
    "@app.route(\"/reset\")\n",
    "def reset():\n",
    "    init()\n",
    "    return \"reset model\"\n",
    "    "
   ]
  },
  {
   "cell_type": "code",
   "execution_count": 9,
   "metadata": {},
   "outputs": [],
   "source": [
    "@app.route(\"/\")\n",
    "def main():\n",
    "    return render_template(\"main.html\")\n"
   ]
  },
  {
   "cell_type": "code",
   "execution_count": 10,
   "metadata": {},
   "outputs": [],
   "source": [
    "@app.route(\"/run_observation\",methods=[\"POST\"])\n",
    "def add_data():\n",
    "    global df\n",
    "    global cov19_dna\n",
    "    global classifier\n",
    "    global d\n",
    "    \n",
    "    try:\n",
    "        seq = request.values.get('seq')\n",
    "        country = request.values.get('country')\n",
    "\n",
    "        is_add = request.values.get(\"add\",\"no\")\n",
    "        is_test = request.values.get(\"test\",\"no\")\n",
    "    except: \n",
    "        return \"Error parsing entries\"\n",
    "    \n",
    "       \n",
    "    if is_add != \"no\":\n",
    "        obs = pd.DataFrame([[seq]],\n",
    "                           columns=[\"seq\"])\n",
    "        cov19_dna = pd.concat([df,obs],ignore_index=True)\n",
    "        \n",
    "        s = train()\n",
    "\n",
    "        \n",
    "        return \"Added new sample \" + \"<pre>\"+ cov19_dna.to_string()             + \"</pre><br> ... <br> and retrained. <br>  Score is now: \" + str(s) + \"<br>\" \n",
    "    \n",
    "    \n",
    "    if is_test != \"no\":\n",
    "        obs2 = pd.DataFrame([[seq,country]],\n",
    "                           columns=[\"seq\",\"country\"])\n",
    "        \n",
    "        ## traslate this data\n",
    "        obs2['words'] = obs2.apply(lambda x: Kmers_funct(x['seq']), axis=1)\n",
    "        obs2=obs2.drop(\"seq\",axis=1)\n",
    "    \n",
    "        obs2_texts = list(obs2['words'])\n",
    "        \n",
    "        for item in range(len(obs2_texts)):\n",
    "            obs2_texts[item] = ' '.join(obs2_texts[item])\n",
    "\n",
    "       \n",
    "        \n",
    "        df = pd.read_csv('CoV19seq_country.csv')\n",
    "        cov19_dna=df\n",
    "        #convert our training data sequences into short overlapping k-mers of length 6. \n",
    "        cov19_dna['words'] = cov19_dna.apply(lambda x: Kmers_funct(x['seq']), axis=1)\n",
    "        cov19_dna=df.drop(\"seq\",axis=1)\n",
    "        cov19_texts = list(cov19_dna['words'])\n",
    "    \n",
    "        y = cov19_dna.iloc[:, 0].values\n",
    "\n",
    "\n",
    "        for item in range(len(cov19_texts)):\n",
    "            cov19_texts[item] = ' '.join(cov19_texts[item])\n",
    "\n",
    "    \n",
    "        # convert k-mer words into numerical vectors that represent counts for every k-mer in the vocabulary\n",
    "        cv = CountVectorizer(ngram_range=(4,4)) #The n-gram size of 4 is previously determined by testing\n",
    "        x_perdict = cv.fit_transform(obs2_texts)\n",
    "        \n",
    "    \n",
    "        X_train, X_test, y_train, y_test = train_test_split(X, y, random_state=3) \n",
    "        classifier = MultinomialNB(alpha=0.1)\n",
    "        classifier.fit(X_train, y_train)\n",
    "        y_pred = classifier.predict(x_perdict)\n",
    "        \n",
    "        return y_pred\n",
    "        \n",
    "    return \"not implemented\"\n",
    "    "
   ]
  },
  {
   "cell_type": "code",
   "execution_count": 11,
   "metadata": {},
   "outputs": [],
   "source": [
    "@app.route(\"/deploy\",methods=['GET','POST'])\n",
    "def deploy():\n",
    "    global cov19_dna\n",
    "    global classifier\n",
    "    \n",
    "    \n",
    "    s = train()\n",
    "\n",
    "    return \"accuracy score for the model is \" + str(s) \n",
    "    \n"
   ]
  },
  {
   "cell_type": "code",
   "execution_count": null,
   "metadata": {},
   "outputs": [
    {
     "name": "stdout",
     "output_type": "stream",
     "text": [
      " * Serving Flask app \"iris_online_example\" (lazy loading)\n",
      " * Environment: production\n",
      "   WARNING: This is a development server. Do not use it in a production deployment.\n",
      "   Use a production WSGI server instead.\n",
      " * Debug mode: off\n"
     ]
    },
    {
     "name": "stderr",
     "output_type": "stream",
     "text": [
      " * Running on http://127.0.0.1:5000/ (Press CTRL+C to quit)\n",
      "127.0.0.1 - - [22/Apr/2020 21:56:33] \"\u001b[37mGET / HTTP/1.1\u001b[0m\" 200 -\n",
      "[2020-04-22 21:56:45,427] ERROR in app: Exception on /run_observation [POST]\n",
      "Traceback (most recent call last):\n",
      "  File \"/home/hl46161/miniconda3/lib/python3.7/site-packages/flask/app.py\", line 2447, in wsgi_app\n",
      "    response = self.full_dispatch_request()\n",
      "  File \"/home/hl46161/miniconda3/lib/python3.7/site-packages/flask/app.py\", line 1952, in full_dispatch_request\n",
      "    rv = self.handle_user_exception(e)\n",
      "  File \"/home/hl46161/miniconda3/lib/python3.7/site-packages/flask/app.py\", line 1821, in handle_user_exception\n",
      "    reraise(exc_type, exc_value, tb)\n",
      "  File \"/home/hl46161/miniconda3/lib/python3.7/site-packages/flask/_compat.py\", line 39, in reraise\n",
      "    raise value\n",
      "  File \"/home/hl46161/miniconda3/lib/python3.7/site-packages/flask/app.py\", line 1950, in full_dispatch_request\n",
      "    rv = self.dispatch_request()\n",
      "  File \"/home/hl46161/miniconda3/lib/python3.7/site-packages/flask/app.py\", line 1936, in dispatch_request\n",
      "    return self.view_functions[rule.endpoint](**req.view_args)\n",
      "  File \"<ipython-input-10-b2f5291522dd>\", line 34, in add_data\n",
      "    obs2['words'] = obs2.apply(lambda x: Kmers_funct(x['seq']), axis=1)\n",
      "  File \"/home/hl46161/miniconda3/lib/python3.7/site-packages/pandas/core/frame.py\", line 6878, in apply\n",
      "    return op.get_result()\n",
      "  File \"/home/hl46161/miniconda3/lib/python3.7/site-packages/pandas/core/apply.py\", line 186, in get_result\n",
      "    return self.apply_standard()\n",
      "  File \"/home/hl46161/miniconda3/lib/python3.7/site-packages/pandas/core/apply.py\", line 296, in apply_standard\n",
      "    values, self.f, axis=self.axis, dummy=dummy, labels=labels\n",
      "  File \"pandas/_libs/reduction.pyx\", line 620, in pandas._libs.reduction.compute_reduction\n",
      "  File \"pandas/_libs/reduction.pyx\", line 128, in pandas._libs.reduction.Reducer.get_result\n",
      "  File \"<ipython-input-10-b2f5291522dd>\", line 34, in <lambda>\n",
      "    obs2['words'] = obs2.apply(lambda x: Kmers_funct(x['seq']), axis=1)\n",
      "  File \"<ipython-input-4-e9197c6142fb>\", line 3, in Kmers_funct\n",
      "    return [seq[x:x+size].lower() for x in range(len(seq) - size + 1)]\n",
      "TypeError: object of type 'NoneType' has no len()\n",
      "127.0.0.1 - - [22/Apr/2020 21:56:45] \"\u001b[35m\u001b[1mPOST /run_observation HTTP/1.1\u001b[0m\" 500 -\n"
     ]
    }
   ],
   "source": [
    "if __name__ == \"__main__\":\n",
    "    app.run()"
   ]
  },
  {
   "cell_type": "code",
   "execution_count": null,
   "metadata": {},
   "outputs": [],
   "source": []
  }
 ],
 "metadata": {
  "kernelspec": {
   "display_name": "Python 3",
   "language": "python",
   "name": "python3"
  },
  "language_info": {
   "codemirror_mode": {
    "name": "ipython",
    "version": 3
   },
   "file_extension": ".py",
   "mimetype": "text/x-python",
   "name": "python",
   "nbconvert_exporter": "python",
   "pygments_lexer": "ipython3",
   "version": "3.7.4"
  }
 },
 "nbformat": 4,
 "nbformat_minor": 4
}
