{
 "cells": [
  {
   "cell_type": "code",
   "execution_count": 1,
   "metadata": {},
   "outputs": [],
   "source": [
    "import numpy as np\n",
    "import pandas as pd\n",
    "import matplotlib.pyplot as plt\n",
    "import seaborn as sns\n",
    "%matplotlib inline"
   ]
  },
  {
   "cell_type": "markdown",
   "metadata": {},
   "source": [
    "### To perdict the country source of CoV19 sequence\n",
    "####machile learning codes are stole from https://www.youtube.com/watch?v=uXl3_8yVBxI"
   ]
  },
  {
   "cell_type": "code",
   "execution_count": null,
   "metadata": {},
   "outputs": [],
   "source": [
    "Cov19_dna=pd.read_csv(\"CoV19_country.csv\")\n",
    "Cov19_dna.head()"
   ]
  },
  {
   "cell_type": "code",
   "execution_count": 14,
   "metadata": {},
   "outputs": [
    {
     "data": {
      "text/html": [
       "<div>\n",
       "<style scoped>\n",
       "    .dataframe tbody tr th:only-of-type {\n",
       "        vertical-align: middle;\n",
       "    }\n",
       "\n",
       "    .dataframe tbody tr th {\n",
       "        vertical-align: top;\n",
       "    }\n",
       "\n",
       "    .dataframe thead th {\n",
       "        text-align: right;\n",
       "    }\n",
       "</style>\n",
       "<table border=\"1\" class=\"dataframe\">\n",
       "  <thead>\n",
       "    <tr style=\"text-align: right;\">\n",
       "      <th></th>\n",
       "      <th>country</th>\n",
       "      <th>Unnamed: 0</th>\n",
       "      <th>taxa</th>\n",
       "      <th>acession</th>\n",
       "      <th>version</th>\n",
       "      <th>country_state</th>\n",
       "      <th>state</th>\n",
       "      <th>words</th>\n",
       "    </tr>\n",
       "  </thead>\n",
       "  <tbody>\n",
       "    <tr>\n",
       "      <th>0</th>\n",
       "      <td>Brazil</td>\n",
       "      <td>1</td>\n",
       "      <td>1</td>\n",
       "      <td>1</td>\n",
       "      <td>1</td>\n",
       "      <td>1</td>\n",
       "      <td>0</td>\n",
       "      <td>1</td>\n",
       "    </tr>\n",
       "    <tr>\n",
       "      <th>1</th>\n",
       "      <td>China</td>\n",
       "      <td>45</td>\n",
       "      <td>45</td>\n",
       "      <td>45</td>\n",
       "      <td>45</td>\n",
       "      <td>45</td>\n",
       "      <td>42</td>\n",
       "      <td>45</td>\n",
       "    </tr>\n",
       "    <tr>\n",
       "      <th>2</th>\n",
       "      <td>France</td>\n",
       "      <td>1</td>\n",
       "      <td>1</td>\n",
       "      <td>1</td>\n",
       "      <td>1</td>\n",
       "      <td>1</td>\n",
       "      <td>0</td>\n",
       "      <td>1</td>\n",
       "    </tr>\n",
       "    <tr>\n",
       "      <th>3</th>\n",
       "      <td>Iran</td>\n",
       "      <td>1</td>\n",
       "      <td>1</td>\n",
       "      <td>1</td>\n",
       "      <td>1</td>\n",
       "      <td>1</td>\n",
       "      <td>0</td>\n",
       "      <td>1</td>\n",
       "    </tr>\n",
       "    <tr>\n",
       "      <th>4</th>\n",
       "      <td>Israel</td>\n",
       "      <td>2</td>\n",
       "      <td>2</td>\n",
       "      <td>2</td>\n",
       "      <td>2</td>\n",
       "      <td>2</td>\n",
       "      <td>0</td>\n",
       "      <td>2</td>\n",
       "    </tr>\n",
       "    <tr>\n",
       "      <th>5</th>\n",
       "      <td>Italy</td>\n",
       "      <td>1</td>\n",
       "      <td>1</td>\n",
       "      <td>1</td>\n",
       "      <td>1</td>\n",
       "      <td>1</td>\n",
       "      <td>0</td>\n",
       "      <td>1</td>\n",
       "    </tr>\n",
       "    <tr>\n",
       "      <th>6</th>\n",
       "      <td>Pakistan</td>\n",
       "      <td>2</td>\n",
       "      <td>2</td>\n",
       "      <td>2</td>\n",
       "      <td>2</td>\n",
       "      <td>2</td>\n",
       "      <td>2</td>\n",
       "      <td>2</td>\n",
       "    </tr>\n",
       "    <tr>\n",
       "      <th>7</th>\n",
       "      <td>Peru</td>\n",
       "      <td>1</td>\n",
       "      <td>1</td>\n",
       "      <td>1</td>\n",
       "      <td>1</td>\n",
       "      <td>1</td>\n",
       "      <td>0</td>\n",
       "      <td>1</td>\n",
       "    </tr>\n",
       "    <tr>\n",
       "      <th>8</th>\n",
       "      <td>South Korea</td>\n",
       "      <td>3</td>\n",
       "      <td>3</td>\n",
       "      <td>3</td>\n",
       "      <td>3</td>\n",
       "      <td>3</td>\n",
       "      <td>0</td>\n",
       "      <td>3</td>\n",
       "    </tr>\n",
       "    <tr>\n",
       "      <th>9</th>\n",
       "      <td>Spain</td>\n",
       "      <td>5</td>\n",
       "      <td>5</td>\n",
       "      <td>5</td>\n",
       "      <td>5</td>\n",
       "      <td>5</td>\n",
       "      <td>1</td>\n",
       "      <td>5</td>\n",
       "    </tr>\n",
       "    <tr>\n",
       "      <th>10</th>\n",
       "      <td>Sweden</td>\n",
       "      <td>1</td>\n",
       "      <td>1</td>\n",
       "      <td>1</td>\n",
       "      <td>1</td>\n",
       "      <td>1</td>\n",
       "      <td>0</td>\n",
       "      <td>1</td>\n",
       "    </tr>\n",
       "    <tr>\n",
       "      <th>11</th>\n",
       "      <td>Taiwan</td>\n",
       "      <td>1</td>\n",
       "      <td>1</td>\n",
       "      <td>1</td>\n",
       "      <td>1</td>\n",
       "      <td>1</td>\n",
       "      <td>0</td>\n",
       "      <td>1</td>\n",
       "    </tr>\n",
       "    <tr>\n",
       "      <th>12</th>\n",
       "      <td>USA</td>\n",
       "      <td>182</td>\n",
       "      <td>182</td>\n",
       "      <td>182</td>\n",
       "      <td>182</td>\n",
       "      <td>182</td>\n",
       "      <td>180</td>\n",
       "      <td>182</td>\n",
       "    </tr>\n",
       "    <tr>\n",
       "      <th>13</th>\n",
       "      <td>Viet Nam</td>\n",
       "      <td>2</td>\n",
       "      <td>2</td>\n",
       "      <td>2</td>\n",
       "      <td>2</td>\n",
       "      <td>2</td>\n",
       "      <td>2</td>\n",
       "      <td>2</td>\n",
       "    </tr>\n",
       "  </tbody>\n",
       "</table>\n",
       "</div>"
      ],
      "text/plain": [
       "        country  Unnamed: 0  taxa  acession  version  country_state  state  \\\n",
       "0        Brazil           1     1         1        1              1      0   \n",
       "1         China          45    45        45       45             45     42   \n",
       "2        France           1     1         1        1              1      0   \n",
       "3          Iran           1     1         1        1              1      0   \n",
       "4        Israel           2     2         2        2              2      0   \n",
       "5         Italy           1     1         1        1              1      0   \n",
       "6      Pakistan           2     2         2        2              2      2   \n",
       "7          Peru           1     1         1        1              1      0   \n",
       "8   South Korea           3     3         3        3              3      0   \n",
       "9         Spain           5     5         5        5              5      1   \n",
       "10       Sweden           1     1         1        1              1      0   \n",
       "11       Taiwan           1     1         1        1              1      0   \n",
       "12          USA         182   182       182      182            182    180   \n",
       "13     Viet Nam           2     2         2        2              2      2   \n",
       "\n",
       "    words  \n",
       "0       1  \n",
       "1      45  \n",
       "2       1  \n",
       "3       1  \n",
       "4       2  \n",
       "5       1  \n",
       "6       2  \n",
       "7       1  \n",
       "8       3  \n",
       "9       5  \n",
       "10      1  \n",
       "11      1  \n",
       "12    182  \n",
       "13      2  "
      ]
     },
     "execution_count": 14,
     "metadata": {},
     "output_type": "execute_result"
    }
   ],
   "source": [
    "##check the balance of the dataset\n",
    "d=Cov19_dna.groupby(['country']).count()\n",
    "d.reset_index(level=['country'], inplace=True)\n",
    "d"
   ]
  },
  {
   "cell_type": "code",
   "execution_count": 15,
   "metadata": {},
   "outputs": [
    {
     "data": {
      "image/png": "[encoded data removed]",
      "text/plain": [
       "<Figure size 360x360 with 1 Axes>"
      ]
     },
     "metadata": {
      "needs_background": "light"
     },
     "output_type": "display_data"
    }
   ],
   "source": [
    "ax =sns.catplot(data=d,x=\"country\",y=\"taxa\",kind=\"bar\")"
   ]
  },
  {
   "cell_type": "code",
   "execution_count": 3,
   "metadata": {},
   "outputs": [],
   "source": [
    "#convert a sequence of characters into k-mer words, default size = 6 (hexamers)\n",
    "def Kmers_funct(seq, size=6):\n",
    "    return [seq[x:x+size].lower() for x in range(len(seq) - size + 1)]"
   ]
  },
  {
   "cell_type": "code",
   "execution_count": 4,
   "metadata": {},
   "outputs": [],
   "source": [
    "#convert our training data sequences into short overlapping k-mers of length 6. \n",
    "Cov19_dna['words'] = Cov19_dna.apply(lambda x: Kmers_funct(x['seq']), axis=1)\n",
    "Cov19_dna=Cov19_dna.drop(\"seq\",axis=1)"
   ]
  },
  {
   "cell_type": "code",
   "execution_count": 5,
   "metadata": {},
   "outputs": [
    {
     "data": {
      "text/html": [
       "<div>\n",
       "<style scoped>\n",
       "    .dataframe tbody tr th:only-of-type {\n",
       "        vertical-align: middle;\n",
       "    }\n",
       "\n",
       "    .dataframe tbody tr th {\n",
       "        vertical-align: top;\n",
       "    }\n",
       "\n",
       "    .dataframe thead th {\n",
       "        text-align: right;\n",
       "    }\n",
       "</style>\n",
       "<table border=\"1\" class=\"dataframe\">\n",
       "  <thead>\n",
       "    <tr style=\"text-align: right;\">\n",
       "      <th></th>\n",
       "      <th>Unnamed: 0</th>\n",
       "      <th>taxa</th>\n",
       "      <th>acession</th>\n",
       "      <th>version</th>\n",
       "      <th>country_state</th>\n",
       "      <th>country</th>\n",
       "      <th>state</th>\n",
       "      <th>words</th>\n",
       "    </tr>\n",
       "  </thead>\n",
       "  <tbody>\n",
       "    <tr>\n",
       "      <th>0</th>\n",
       "      <td>0</td>\n",
       "      <td>MT322424.1</td>\n",
       "      <td>MT322424</td>\n",
       "      <td>1</td>\n",
       "      <td>USA: VA</td>\n",
       "      <td>USA</td>\n",
       "      <td>VA</td>\n",
       "      <td>[attaaa, ttaaag, taaagg, aaaggt, aaggtt, aggtt...</td>\n",
       "    </tr>\n",
       "    <tr>\n",
       "      <th>1</th>\n",
       "      <td>1</td>\n",
       "      <td>MT322420.1</td>\n",
       "      <td>MT322420</td>\n",
       "      <td>1</td>\n",
       "      <td>USA: VA</td>\n",
       "      <td>USA</td>\n",
       "      <td>VA</td>\n",
       "      <td>[ctttcg, tttcga, ttcgat, tcgatc, cgatct, gatct...</td>\n",
       "    </tr>\n",
       "    <tr>\n",
       "      <th>2</th>\n",
       "      <td>2</td>\n",
       "      <td>MT322417.1</td>\n",
       "      <td>MT322417</td>\n",
       "      <td>1</td>\n",
       "      <td>USA: VA</td>\n",
       "      <td>USA</td>\n",
       "      <td>VA</td>\n",
       "      <td>[taaagg, aaaggt, aaggtt, aggttt, ggttta, gttta...</td>\n",
       "    </tr>\n",
       "    <tr>\n",
       "      <th>3</th>\n",
       "      <td>3</td>\n",
       "      <td>MT322415.1</td>\n",
       "      <td>MT322415</td>\n",
       "      <td>1</td>\n",
       "      <td>USA: VA</td>\n",
       "      <td>USA</td>\n",
       "      <td>VA</td>\n",
       "      <td>[actttc, ctttcg, tttcga, ttcgat, tcgatc, cgatc...</td>\n",
       "    </tr>\n",
       "    <tr>\n",
       "      <th>4</th>\n",
       "      <td>4</td>\n",
       "      <td>MT322412.1</td>\n",
       "      <td>MT322412</td>\n",
       "      <td>1</td>\n",
       "      <td>USA: VA</td>\n",
       "      <td>USA</td>\n",
       "      <td>VA</td>\n",
       "      <td>[taaagg, aaaggt, aaggtt, aggttt, ggttta, gttta...</td>\n",
       "    </tr>\n",
       "  </tbody>\n",
       "</table>\n",
       "</div>"
      ],
      "text/plain": [
       "   Unnamed: 0        taxa  acession  version country_state country state  \\\n",
       "0           0  MT322424.1  MT322424        1       USA: VA     USA    VA   \n",
       "1           1  MT322420.1  MT322420        1       USA: VA     USA    VA   \n",
       "2           2  MT322417.1  MT322417        1       USA: VA     USA    VA   \n",
       "3           3  MT322415.1  MT322415        1       USA: VA     USA    VA   \n",
       "4           4  MT322412.1  MT322412        1       USA: VA     USA    VA   \n",
       "\n",
       "                                               words  \n",
       "0  [attaaa, ttaaag, taaagg, aaaggt, aaggtt, aggtt...  \n",
       "1  [ctttcg, tttcga, ttcgat, tcgatc, cgatct, gatct...  \n",
       "2  [taaagg, aaaggt, aaggtt, aggttt, ggttta, gttta...  \n",
       "3  [actttc, ctttcg, tttcga, ttcgat, tcgatc, cgatc...  \n",
       "4  [taaagg, aaaggt, aaggtt, aggttt, ggttta, gttta...  "
      ]
     },
     "execution_count": 5,
     "metadata": {},
     "output_type": "execute_result"
    }
   ],
   "source": [
    "Cov19_dna.head()"
   ]
  },
  {
   "cell_type": "code",
   "execution_count": 6,
   "metadata": {},
   "outputs": [],
   "source": [
    "cov19_texts = list(Cov19_dna['words'])\n",
    "for item in range(len(cov19_texts)):\n",
    "    cov19_texts[item] = ' '.join(cov19_texts[item])\n",
    "#separate labels\n",
    "y_cov19 = Cov19_dna.iloc[:, 5].values"
   ]
  },
  {
   "cell_type": "code",
   "execution_count": 7,
   "metadata": {},
   "outputs": [
    {
     "data": {
      "text/plain": [
       "array(['USA', 'USA', 'USA', 'USA', 'USA', 'USA', 'USA', 'USA', 'USA',\n",
       "       'USA', 'USA', 'Italy', 'China', 'Iran', 'France', 'USA', 'USA',\n",
       "       'USA', 'USA', 'USA', 'USA', 'USA', 'USA', 'USA', 'USA', 'USA',\n",
       "       'USA', 'USA', 'USA', 'USA', 'USA', 'USA', 'USA', 'South Korea',\n",
       "       'South Korea', 'South Korea', 'USA', 'USA', 'China', 'China',\n",
       "       'China', 'China', 'China', 'China', 'China', 'China', 'China',\n",
       "       'China', 'China', 'USA', 'USA', 'USA', 'USA', 'USA', 'USA', 'USA',\n",
       "       'USA', 'USA', 'USA', 'USA', 'USA', 'USA', 'USA', 'USA', 'USA',\n",
       "       'USA', 'USA', 'USA', 'USA', 'USA', 'USA', 'USA', 'USA', 'USA',\n",
       "       'USA', 'USA', 'USA', 'USA', 'USA', 'USA', 'China', 'Spain',\n",
       "       'Spain', 'Spain', 'Spain', 'Israel', 'Israel', 'USA', 'USA', 'USA',\n",
       "       'USA', 'USA', 'USA', 'USA', 'USA', 'USA', 'USA', 'USA', 'USA',\n",
       "       'USA', 'USA', 'USA', 'USA', 'USA', 'USA', 'USA', 'USA', 'USA',\n",
       "       'USA', 'USA', 'USA', 'USA', 'USA', 'USA', 'USA', 'USA', 'USA',\n",
       "       'USA', 'USA', 'USA', 'USA', 'USA', 'USA', 'USA', 'USA', 'USA',\n",
       "       'USA', 'USA', 'USA', 'USA', 'USA', 'USA', 'USA', 'USA', 'USA',\n",
       "       'USA', 'USA', 'USA', 'USA', 'USA', 'USA', 'USA', 'USA', 'USA',\n",
       "       'USA', 'USA', 'USA', 'USA', 'USA', 'Peru', 'Pakistan', 'USA',\n",
       "       'USA', 'USA', 'USA', 'USA', 'USA', 'USA', 'USA', 'USA', 'USA',\n",
       "       'USA', 'USA', 'USA', 'USA', 'USA', 'USA', 'USA', 'USA', 'USA',\n",
       "       'USA', 'USA', 'USA', 'USA', 'USA', 'USA', 'USA', 'USA', 'USA',\n",
       "       'USA', 'USA', 'USA', 'USA', 'China', 'China', 'China', 'China',\n",
       "       'China', 'China', 'China', 'China', 'China', 'China', 'China',\n",
       "       'China', 'China', 'China', 'China', 'China', 'China', 'China',\n",
       "       'China', 'China', 'China', 'USA', 'USA', 'USA', 'USA', 'USA',\n",
       "       'USA', 'USA', 'USA', 'USA', 'USA', 'USA', 'USA', 'USA', 'USA',\n",
       "       'USA', 'USA', 'USA', 'USA', 'USA', 'Pakistan', 'Spain', 'China',\n",
       "       'Viet Nam', 'Viet Nam', 'USA', 'Taiwan', 'China', 'China', 'China',\n",
       "       'China', 'USA', 'USA', 'USA', 'USA', 'USA', 'China', 'USA',\n",
       "       'China', 'China', 'China', 'China', 'Brazil', 'China', 'Sweden'],\n",
       "      dtype=object)"
      ]
     },
     "execution_count": 7,
     "metadata": {},
     "output_type": "execute_result"
    }
   ],
   "source": [
    "y_cov19"
   ]
  },
  {
   "cell_type": "code",
   "execution_count": 8,
   "metadata": {},
   "outputs": [],
   "source": [
    "# convert k-mer words into numerical vectors that represent counts for every k-mer in the vocabulary\n",
    "from sklearn.feature_extraction.text import CountVectorizer\n",
    "cv = CountVectorizer(ngram_range=(4,4)) #The n-gram size of 4 is previously determined by testing\n",
    "X = cv.fit_transform(cov19_texts)"
   ]
  },
  {
   "cell_type": "code",
   "execution_count": 9,
   "metadata": {},
   "outputs": [
    {
     "name": "stdout",
     "output_type": "stream",
     "text": [
      "(248, 29037)\n"
     ]
    }
   ],
   "source": [
    "print(X.shape)"
   ]
  },
  {
   "cell_type": "code",
   "execution_count": 10,
   "metadata": {},
   "outputs": [],
   "source": [
    "from sklearn.model_selection import train_test_split\n",
    "X_train, X_test, y_train, y_test = train_test_split(X, y_cov19, random_state=3) "
   ]
  },
  {
   "cell_type": "code",
   "execution_count": 11,
   "metadata": {},
   "outputs": [],
   "source": [
    "### Multinomial Naive Bayes Classifie\n",
    "from sklearn.naive_bayes import MultinomialNB\n",
    "classifier = MultinomialNB(alpha=0.1)\n",
    "classifier.fit(X_train, y_train)\n",
    "y_pred = classifier.predict(X_test)"
   ]
  },
  {
   "cell_type": "code",
   "execution_count": 12,
   "metadata": {},
   "outputs": [
    {
     "name": "stdout",
     "output_type": "stream",
     "text": [
      "['USA' 'USA' 'USA' 'USA' 'USA' 'China' 'USA' 'USA' 'Israel' 'USA' 'Spain'\n",
      " 'China' 'China' 'USA' 'USA' 'USA' 'USA' 'USA' 'China' 'USA' 'USA' 'China'\n",
      " 'USA' 'USA' 'USA' 'USA' 'USA' 'USA' 'USA' 'China' 'USA' 'USA' 'USA' 'USA'\n",
      " 'USA' 'USA' 'USA' 'Viet Nam' 'USA' 'China' 'China' 'China' 'USA' 'USA'\n",
      " 'China' 'USA' 'USA' 'China' 'USA' 'China' 'China' 'China' 'USA' 'USA'\n",
      " 'USA' 'USA' 'USA' 'USA' 'South Korea' 'USA' 'USA' 'China']\n"
     ]
    }
   ],
   "source": [
    "print(y_pred)"
   ]
  },
  {
   "cell_type": "code",
   "execution_count": 13,
   "metadata": {},
   "outputs": [
    {
     "name": "stdout",
     "output_type": "stream",
     "text": [
      "0.9516129032258065\n",
      "[[14  0  0  0  0  0  0]\n",
      " [ 0  0  1  0  0  0  0]\n",
      " [ 0  0  0  0  0  0  0]\n",
      " [ 0  0  0  1  0  0  0]\n",
      " [ 0  0  0  0  1  0  0]\n",
      " [ 1  0  0  0  0 43  1]\n",
      " [ 0  0  0  0  0  0  0]]\n"
     ]
    }
   ],
   "source": [
    "##confusion matrix\n",
    "from sklearn.metrics import accuracy_score\n",
    "from sklearn.metrics import confusion_matrix\n",
    "acc_score = accuracy_score(y_test, y_pred)\n",
    "conf_mat = confusion_matrix(y_test, y_pred)\n",
    "\n",
    "print(acc_score)\n",
    "print(conf_mat)"
   ]
  },
  {
   "cell_type": "code",
   "execution_count": null,
   "metadata": {},
   "outputs": [],
   "source": []
  }
 ],
 "metadata": {
  "kernelspec": {
   "display_name": "Python 3",
   "language": "python",
   "name": "python3"
  },
  "language_info": {
   "codemirror_mode": {
    "name": "ipython",
    "version": 3
   },
   "file_extension": ".py",
   "mimetype": "text/x-python",
   "name": "python",
   "nbconvert_exporter": "python",
   "pygments_lexer": "ipython3",
   "version": "3.7.6"
  }
 },
 "nbformat": 4,
 "nbformat_minor": 4
}
