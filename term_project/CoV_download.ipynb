{
 "cells": [
  {
   "cell_type": "code",
   "execution_count": 22,
   "metadata": {},
   "outputs": [],
   "source": [
    "from Bio import Entrez\n",
    "from Bio import SeqIO"
   ]
  },
  {
   "cell_type": "code",
   "execution_count": 24,
   "metadata": {},
   "outputs": [],
   "source": [
    "## Retrieve CoV WGS data from NCBI\n",
    "\n",
    "\n",
    "\n",
    "#get an id list: this makes a big search and gets a list of id \n",
    " #provide your own mail here\n",
    "Entrez.email = \"jiani.chen@uga.edu\"\n",
    "handle = Entrez.esearch(db='nucleotide', term = [\"SARS-CoV-2[All Fields]\"],rettype=\"fasta\",retmax='500')\n",
    "record = Entrez.read(handle)\n",
    "handle.close()\n",
    "#print (record[\"IdList\"])\n",
    "ids = record['IdList']"
   ]
  },
  {
   "cell_type": "code",
   "execution_count": 43,
   "metadata": {},
   "outputs": [
    {
     "data": {
      "text/plain": [
       "449"
      ]
     },
     "execution_count": 43,
     "metadata": {},
     "output_type": "execute_result"
    }
   ],
   "source": [
    "id_str = \",\".join(ids)\n",
    "handle = Entrez.efetch(db=\"nucleotide\", id=id_str,rettype=\"fasta\")\n",
    "records = SeqIO.parse(handle, \"fasta\")\n",
    "#for rec in records:\n",
    "#   print(\"downloaded record \" + rec.id)\n",
    "    \n",
    "    \n",
    " ## get sequence \n",
    "\n",
    "SeqIO.write(records, \"CoV19.fasta\", \"fasta\")"
   ]
  },
  {
   "cell_type": "code",
   "execution_count": 44,
   "metadata": {},
   "outputs": [
    {
     "data": {
      "text/plain": [
       "449"
      ]
     },
     "execution_count": 44,
     "metadata": {},
     "output_type": "execute_result"
    }
   ],
   "source": [
    "\n",
    "handle2 = Entrez.efetch(db=\"nucleotide\", id=id_str,rettype=\"gb\")\n",
    "records2 = SeqIO.parse(handle2, \"gb\")\n",
    "SeqIO.write(records2, \"CoV19.gb\", \"gb\")\n",
    "\n",
    "\n",
    "\n"
   ]
  },
  {
   "cell_type": "code",
   "execution_count": 47,
   "metadata": {},
   "outputs": [
    {
     "data": {
      "text/plain": [
       "375"
      ]
     },
     "execution_count": 47,
     "metadata": {},
     "output_type": "execute_result"
    }
   ],
   "source": [
    "count = SeqIO.convert(\"CoV19.gb\", \"genbank\", \"CoV19gb.fasta\", \"fasta\")\n",
    "## filter by length to get WGS \n",
    "input_seq_iterator = SeqIO.parse(\"CoV19.gb\", \"genbank\")\n",
    "short_seq_iterator = (record for record in input_seq_iterator \\\n",
    "                      if len(record.seq) > 20000)\n",
    "\n",
    "SeqIO.write(short_seq_iterator, \"CoV19_WGS.fasta\", \"fasta\")\n"
   ]
  },
  {
   "cell_type": "code",
   "execution_count": null,
   "metadata": {},
   "outputs": [],
   "source": []
  }
 ],
 "metadata": {
  "kernelspec": {
   "display_name": "Python 3",
   "language": "python",
   "name": "python3"
  },
  "language_info": {
   "codemirror_mode": {
    "name": "ipython",
    "version": 3
   },
   "file_extension": ".py",
   "mimetype": "text/x-python",
   "name": "python",
   "nbconvert_exporter": "python",
   "pygments_lexer": "ipython3",
   "version": "3.7.4"
  }
 },
 "nbformat": 4,
 "nbformat_minor": 4
}
