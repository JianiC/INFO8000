{
 "cells": [
  {
   "cell_type": "code",
   "execution_count": 1,
   "metadata": {},
   "outputs": [],
   "source": [
    "import numpy as np\n",
    "import pandas as pd\n",
    "import matplotlib.pyplot as plt\n",
    "%matplotlib inline"
   ]
  },
  {
   "cell_type": "code",
   "execution_count": 13,
   "metadata": {},
   "outputs": [
    {
     "data": {
      "text/html": [
       "<div>\n",
       "<style scoped>\n",
       "    .dataframe tbody tr th:only-of-type {\n",
       "        vertical-align: middle;\n",
       "    }\n",
       "\n",
       "    .dataframe tbody tr th {\n",
       "        vertical-align: top;\n",
       "    }\n",
       "\n",
       "    .dataframe thead th {\n",
       "        text-align: right;\n",
       "    }\n",
       "</style>\n",
       "<table border=\"1\" class=\"dataframe\">\n",
       "  <thead>\n",
       "    <tr style=\"text-align: right;\">\n",
       "      <th></th>\n",
       "      <th>gene</th>\n",
       "      <th>sequence</th>\n",
       "      <th>class</th>\n",
       "    </tr>\n",
       "  </thead>\n",
       "  <tbody>\n",
       "    <tr>\n",
       "      <th>0</th>\n",
       "      <td>MT276598.1_ORF3a</td>\n",
       "      <td>ATGGATTTGTTTATGAGAATCTTCACAATTGGAACTGTAACTTTGA...</td>\n",
       "      <td>1</td>\n",
       "    </tr>\n",
       "    <tr>\n",
       "      <th>1</th>\n",
       "      <td>MT276597.1_ORF3a</td>\n",
       "      <td>ATGGATTTGTTTATGAGAATCTTCACAATTGGAACTGTAACTTTGA...</td>\n",
       "      <td>1</td>\n",
       "    </tr>\n",
       "    <tr>\n",
       "      <th>2</th>\n",
       "      <td>MT276331.1_ORF3a</td>\n",
       "      <td>ATGGATTTGTTTATGAGAATCTTCACAATTGGAACTGTAACTTTGA...</td>\n",
       "      <td>1</td>\n",
       "    </tr>\n",
       "    <tr>\n",
       "      <th>3</th>\n",
       "      <td>MT276330.1_ORF3a</td>\n",
       "      <td>ATGGATTTGTTTATGAGAATCTTCACAATTGGAACTGTAACTTTGA...</td>\n",
       "      <td>1</td>\n",
       "    </tr>\n",
       "    <tr>\n",
       "      <th>4</th>\n",
       "      <td>MT276329.1_ORF3a</td>\n",
       "      <td>ATGGATTTGTTTATGAGAATCTTCACAATTGGAACTGTAACTTTGA...</td>\n",
       "      <td>1</td>\n",
       "    </tr>\n",
       "  </tbody>\n",
       "</table>\n",
       "</div>"
      ],
      "text/plain": [
       "               gene                                           sequence  class\n",
       "0  MT276598.1_ORF3a  ATGGATTTGTTTATGAGAATCTTCACAATTGGAACTGTAACTTTGA...      1\n",
       "1  MT276597.1_ORF3a  ATGGATTTGTTTATGAGAATCTTCACAATTGGAACTGTAACTTTGA...      1\n",
       "2  MT276331.1_ORF3a  ATGGATTTGTTTATGAGAATCTTCACAATTGGAACTGTAACTTTGA...      1\n",
       "3  MT276330.1_ORF3a  ATGGATTTGTTTATGAGAATCTTCACAATTGGAACTGTAACTTTGA...      1\n",
       "4  MT276329.1_ORF3a  ATGGATTTGTTTATGAGAATCTTCACAATTGGAACTGTAACTTTGA...      1"
      ]
     },
     "execution_count": 13,
     "metadata": {},
     "output_type": "execute_result"
    }
   ],
   "source": [
    "Cov19_dna=pd.read_table(\"Cov19test_dna.txt\")\n",
    "Cov19_dna.head()"
   ]
  },
  {
   "cell_type": "code",
   "execution_count": 14,
   "metadata": {},
   "outputs": [],
   "source": [
    "#convert a sequence of characters into k-mer words, default size = 6 (hexamers)\n",
    "def Kmers_funct(seq, size=6):\n",
    "    return [seq[x:x+size].lower() for x in range(len(seq) - size + 1)]"
   ]
  },
  {
   "cell_type": "code",
   "execution_count": 15,
   "metadata": {},
   "outputs": [],
   "source": [
    "#convert our training data sequences into short overlapping k-mers of length 6. \n",
    "Cov19_dna['words'] = Cov19_dna.apply(lambda x: Kmers_funct(x['sequence']), axis=1)\n",
    "Cov19_dna=Cov19_dna.drop(\"sequence\",axis=1)\n"
   ]
  },
  {
   "cell_type": "code",
   "execution_count": 16,
   "metadata": {},
   "outputs": [
    {
     "data": {
      "text/html": [
       "<div>\n",
       "<style scoped>\n",
       "    .dataframe tbody tr th:only-of-type {\n",
       "        vertical-align: middle;\n",
       "    }\n",
       "\n",
       "    .dataframe tbody tr th {\n",
       "        vertical-align: top;\n",
       "    }\n",
       "\n",
       "    .dataframe thead th {\n",
       "        text-align: right;\n",
       "    }\n",
       "</style>\n",
       "<table border=\"1\" class=\"dataframe\">\n",
       "  <thead>\n",
       "    <tr style=\"text-align: right;\">\n",
       "      <th></th>\n",
       "      <th>gene</th>\n",
       "      <th>class</th>\n",
       "      <th>words</th>\n",
       "    </tr>\n",
       "  </thead>\n",
       "  <tbody>\n",
       "    <tr>\n",
       "      <th>0</th>\n",
       "      <td>MT276598.1_ORF3a</td>\n",
       "      <td>1</td>\n",
       "      <td>[atggat, tggatt, ggattt, gatttg, atttgt, tttgt...</td>\n",
       "    </tr>\n",
       "    <tr>\n",
       "      <th>1</th>\n",
       "      <td>MT276597.1_ORF3a</td>\n",
       "      <td>1</td>\n",
       "      <td>[atggat, tggatt, ggattt, gatttg, atttgt, tttgt...</td>\n",
       "    </tr>\n",
       "    <tr>\n",
       "      <th>2</th>\n",
       "      <td>MT276331.1_ORF3a</td>\n",
       "      <td>1</td>\n",
       "      <td>[atggat, tggatt, ggattt, gatttg, atttgt, tttgt...</td>\n",
       "    </tr>\n",
       "    <tr>\n",
       "      <th>3</th>\n",
       "      <td>MT276330.1_ORF3a</td>\n",
       "      <td>1</td>\n",
       "      <td>[atggat, tggatt, ggattt, gatttg, atttgt, tttgt...</td>\n",
       "    </tr>\n",
       "    <tr>\n",
       "      <th>4</th>\n",
       "      <td>MT276329.1_ORF3a</td>\n",
       "      <td>1</td>\n",
       "      <td>[atggat, tggatt, ggattt, gatttg, atttgt, tttgt...</td>\n",
       "    </tr>\n",
       "  </tbody>\n",
       "</table>\n",
       "</div>"
      ],
      "text/plain": [
       "               gene  class                                              words\n",
       "0  MT276598.1_ORF3a      1  [atggat, tggatt, ggattt, gatttg, atttgt, tttgt...\n",
       "1  MT276597.1_ORF3a      1  [atggat, tggatt, ggattt, gatttg, atttgt, tttgt...\n",
       "2  MT276331.1_ORF3a      1  [atggat, tggatt, ggattt, gatttg, atttgt, tttgt...\n",
       "3  MT276330.1_ORF3a      1  [atggat, tggatt, ggattt, gatttg, atttgt, tttgt...\n",
       "4  MT276329.1_ORF3a      1  [atggat, tggatt, ggattt, gatttg, atttgt, tttgt..."
      ]
     },
     "execution_count": 16,
     "metadata": {},
     "output_type": "execute_result"
    }
   ],
   "source": [
    "Cov19_dna.head()"
   ]
  },
  {
   "cell_type": "code",
   "execution_count": 18,
   "metadata": {},
   "outputs": [],
   "source": [
    "\n",
    "cov19_texts = list(Cov19_dna['words'])\n",
    "for item in range(len(cov19_texts)):\n",
    "    cov19_texts[item] = ' '.join(cov19_texts[item])\n",
    "#separate labels\n",
    "y_cov19 = Cov19_dna.iloc[:, 1].values # y_human for human_dna"
   ]
  },
  {
   "cell_type": "code",
   "execution_count": 19,
   "metadata": {},
   "outputs": [
    {
     "data": {
      "text/plain": [
       "array([1, 1, 1, ..., 3, 3, 3])"
      ]
     },
     "execution_count": 19,
     "metadata": {},
     "output_type": "execute_result"
    }
   ],
   "source": [
    "y_cov19"
   ]
  },
  {
   "cell_type": "code",
   "execution_count": 20,
   "metadata": {},
   "outputs": [],
   "source": [
    "# convert k-mer words into numerical vectors that represent counts for every k-mer in the vocabulary\n",
    "from sklearn.feature_extraction.text import CountVectorizer\n",
    "cv = CountVectorizer(ngram_range=(4,4)) #The n-gram size of 4 is previously determined by testing\n",
    "X = cv.fit_transform(cov19_texts)"
   ]
  },
  {
   "cell_type": "code",
   "execution_count": 21,
   "metadata": {},
   "outputs": [
    {
     "name": "stdout",
     "output_type": "stream",
     "text": [
      "(1125, 2102)\n"
     ]
    }
   ],
   "source": [
    "print(X.shape)"
   ]
  },
  {
   "cell_type": "code",
   "execution_count": 22,
   "metadata": {},
   "outputs": [],
   "source": [
    "from sklearn.model_selection import train_test_split\n",
    "X_train, X_test, y_train, y_test = train_test_split(X, y_cov19, random_state=3) "
   ]
  },
  {
   "cell_type": "code",
   "execution_count": 23,
   "metadata": {},
   "outputs": [],
   "source": [
    "### Multinomial Naive Bayes Classifie\n",
    "from sklearn.naive_bayes import MultinomialNB\n",
    "classifier = MultinomialNB(alpha=0.1)\n",
    "classifier.fit(X_train, y_train)\n",
    "y_pred = classifier.predict(X_test)"
   ]
  },
  {
   "cell_type": "code",
   "execution_count": 24,
   "metadata": {},
   "outputs": [
    {
     "name": "stdout",
     "output_type": "stream",
     "text": [
      "[3 2 2 3 1 3 2 2 2 2 2 2 1 1 3 1 1 2 2 1 2 3 3 2 1 2 3 1 1 3 2 1 2 1 3 1 3\n",
      " 2 2 2 1 1 3 3 2 3 2 2 3 1 3 3 2 1 1 1 3 2 1 3 1 1 2 1 1 1 3 2 3 3 2 1 2 2\n",
      " 1 2 3 1 3 1 2 1 3 1 1 1 3 1 2 2 1 1 1 3 2 2 2 2 1 3 2 1 1 3 2 3 2 1 2 3 3\n",
      " 3 1 3 2 1 1 1 3 3 1 3 2 3 1 1 2 1 3 2 2 2 1 2 3 3 2 3 2 2 1 1 3 3 2 1 2 3\n",
      " 1 3 1 1 1 1 2 1 3 3 2 3 3 2 1 2 2 2 1 2 1 3 1 1 1 3 2 3 3 2 1 3 1 3 1 3 2\n",
      " 3 3 2 1 1 1 3 1 2 3 2 3 1 1 3 3 2 1 1 3 2 3 2 3 2 3 3 1 2 2 3 1 2 1 3 3 3\n",
      " 3 2 1 2 2 3 1 2 1 1 1 3 1 3 2 1 1 2 2 1 3 3 1 2 3 2 2 1 2 3 1 3 1 3 3 2 1\n",
      " 2 3 2 2 1 3 2 2 1 2 1 3 2 3 1 3 1 1 2 1 2 2 3]\n"
     ]
    }
   ],
   "source": [
    "print(y_pred)"
   ]
  },
  {
   "cell_type": "code",
   "execution_count": null,
   "metadata": {},
   "outputs": [],
   "source": [
    "##confusion matrix"
   ]
  }
 ],
 "metadata": {
  "kernelspec": {
   "display_name": "Python 3",
   "language": "python",
   "name": "python3"
  },
  "language_info": {
   "codemirror_mode": {
    "name": "ipython",
    "version": 3
   },
   "file_extension": ".py",
   "mimetype": "text/x-python",
   "name": "python",
   "nbconvert_exporter": "python",
   "pygments_lexer": "ipython3",
   "version": "3.7.6"
  }
 },
 "nbformat": 4,
 "nbformat_minor": 4
}
